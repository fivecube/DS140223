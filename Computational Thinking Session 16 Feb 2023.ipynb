{
 "cells": [
  {
   "cell_type": "code",
   "execution_count": 2,
   "id": "98db76a2",
   "metadata": {},
   "outputs": [
    {
     "name": "stdout",
     "output_type": "stream",
     "text": [
      "Odd=1\n",
      "Even=2\n",
      "Odd=3\n",
      "Even=30\n",
      "Even=20\n",
      "Odd=15\n",
      "Odd=23\n"
     ]
    }
   ],
   "source": [
    "list_of_numbers = [1,2,3,30,20,15,23]\n",
    "\n",
    "for no in list_of_numbers:\n",
    "    if no%2 == 0:\n",
    "        print(f'Even={no}')\n",
    "    else:\n",
    "        print(f'Odd={no}')"
   ]
  },
  {
   "cell_type": "code",
   "execution_count": 10,
   "id": "536d658e",
   "metadata": {},
   "outputs": [],
   "source": [
    "def find_smallest_no(list_of_numbers):\n",
    "    our_number = list_of_numbers[0]\n",
    "\n",
    "    for no in list_of_numbers:\n",
    "        if no < our_number:\n",
    "            our_number = no\n",
    "    \n",
    "    return our_number"
   ]
  },
  {
   "cell_type": "code",
   "execution_count": 11,
   "id": "9495eb1c",
   "metadata": {},
   "outputs": [
    {
     "data": {
      "text/plain": [
       "3"
      ]
     },
     "execution_count": 11,
     "metadata": {},
     "output_type": "execute_result"
    }
   ],
   "source": [
    "find_smallest_no([20,30,28,60,3,5,15])"
   ]
  },
  {
   "cell_type": "code",
   "execution_count": 12,
   "id": "63229567",
   "metadata": {},
   "outputs": [
    {
     "data": {
      "text/plain": [
       "1"
      ]
     },
     "execution_count": 12,
     "metadata": {},
     "output_type": "execute_result"
    }
   ],
   "source": [
    "find_smallest_no([30,25,60,3,20,1,15,2])"
   ]
  },
  {
   "cell_type": "code",
   "execution_count": 13,
   "id": "c282afc4",
   "metadata": {},
   "outputs": [
    {
     "name": "stdout",
     "output_type": "stream",
     "text": [
      "[15, 23, 50, 53, 65]\n"
     ]
    }
   ],
   "source": [
    "list_of_numbers = [23,15,50,65,53]\n",
    "ascending_order_list = []\n",
    "\n",
    "while len(list_of_numbers)!= 0:\n",
    "    smallest_number = find_smallest_no(list_of_numbers)\n",
    "    ascending_order_list.append(smallest_number)\n",
    "    list_of_numbers.remove(smallest_number)\n",
    "\n",
    "print(ascending_order_list)"
   ]
  },
  {
   "cell_type": "code",
   "execution_count": null,
   "id": "9ff8332f",
   "metadata": {},
   "outputs": [],
   "source": []
  }
 ],
 "metadata": {
  "kernelspec": {
   "display_name": "Python 3 (ipykernel)",
   "language": "python",
   "name": "python3"
  },
  "language_info": {
   "codemirror_mode": {
    "name": "ipython",
    "version": 3
   },
   "file_extension": ".py",
   "mimetype": "text/x-python",
   "name": "python",
   "nbconvert_exporter": "python",
   "pygments_lexer": "ipython3",
   "version": "3.8.10"
  }
 },
 "nbformat": 4,
 "nbformat_minor": 5
}
